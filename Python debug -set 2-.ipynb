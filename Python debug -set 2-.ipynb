{
 "cells": [
  {
   "cell_type": "code",
   "execution_count": 3,
   "id": "90e9fa4e",
   "metadata": {},
   "outputs": [
    {
     "name": "stdout",
     "output_type": "stream",
     "text": [
      "4.0\n"
     ]
    }
   ],
   "source": [
    "#1.Find the error in the following Python code:\n",
    "import math\n",
    "print(math.sqrt(16))\n",
    "#Name error Math not define"
   ]
  },
  {
   "cell_type": "code",
   "execution_count": 5,
   "id": "55520fd2",
   "metadata": {},
   "outputs": [
    {
     "name": "stdout",
     "output_type": "stream",
     "text": [
      "15\n"
     ]
    }
   ],
   "source": [
    "#2.Find the error in the following Python code:\n",
    "def my_function(x):\n",
    "    x += 5\n",
    "    print(x)\n",
    "\n",
    "x = 10\n",
    "my_function(x)\n",
    "#unboun local error as x is a local variable"
   ]
  },
  {
   "cell_type": "code",
   "execution_count": 8,
   "id": "f23899ca",
   "metadata": {},
   "outputs": [
    {
     "name": "stdout",
     "output_type": "stream",
     "text": [
      "x is 10\n"
     ]
    }
   ],
   "source": [
    "#3.\n",
    "x = 5\n",
    "if x == 10:\n",
    "    print(\"x is 10\")\n",
    "#invali operator use in condition"
   ]
  },
  {
   "cell_type": "code",
   "execution_count": 12,
   "id": "c644c2f2",
   "metadata": {},
   "outputs": [
    {
     "name": "stdout",
     "output_type": "stream",
     "text": [
      "[2, 3, 5, 8]\n"
     ]
    }
   ],
   "source": [
    "#4.\n",
    "numbers = [5, 3, 8, 2]\n",
    "#print(numbers)\n",
    "numbers.sort()\n",
    "print(numbers)"
   ]
  },
  {
   "cell_type": "code",
   "execution_count": 14,
   "id": "c6bc9bfb",
   "metadata": {},
   "outputs": [
    {
     "name": "stdout",
     "output_type": "stream",
     "text": [
      "16\n"
     ]
    }
   ],
   "source": [
    "#5.\n",
    "def square(n):\n",
    "    return n * n\n",
    "\n",
    "print(square(4))\n"
   ]
  },
  {
   "cell_type": "code",
   "execution_count": 21,
   "id": "3a9dbcc0",
   "metadata": {},
   "outputs": [
    {
     "name": "stdout",
     "output_type": "stream",
     "text": [
      "[5, 2, 3]\n",
      "(5, 2, 3)\n"
     ]
    }
   ],
   "source": [
    "#6.\n",
    "my_tuple = (1, 2, 3)\n",
    "my_list = list(my_tuple)\n",
    "my_list[0] = 5\n",
    "print(my_list)\n",
    "print(tuple(my_list))"
   ]
  },
  {
   "cell_type": "code",
   "execution_count": 25,
   "id": "4a72685b",
   "metadata": {},
   "outputs": [
    {
     "name": "stdout",
     "output_type": "stream",
     "text": [
      "My name is Alice and I am %d years old 25\n"
     ]
    }
   ],
   "source": [
    "#7.\n",
    "name = \"Alice\"\n",
    "age = 25\n",
    "print(\"My name is\", name, \"and I am %d years old\",age)\n"
   ]
  },
  {
   "cell_type": "code",
   "execution_count": 29,
   "id": "3de969fe",
   "metadata": {},
   "outputs": [
    {
     "name": "stdout",
     "output_type": "stream",
     "text": [
      "Lists are equal\n"
     ]
    }
   ],
   "source": [
    "#8.\n",
    "a = [1, 2, 3]\n",
    "b = [1, 2, 3]\n",
    "if a == b:\n",
    "    print(\"Lists are equal\")\n",
    "else:\n",
    "    print(\"Not\")"
   ]
  },
  {
   "cell_type": "code",
   "execution_count": 32,
   "id": "dbe38465",
   "metadata": {},
   "outputs": [
    {
     "name": "stdout",
     "output_type": "stream",
     "text": [
      "5 4 3 2 "
     ]
    }
   ],
   "source": [
    "#9.\n",
    "for i in range(5, 1, -1):\n",
    "    print(i , end=\" \")\n"
   ]
  },
  {
   "cell_type": "code",
   "execution_count": 34,
   "id": "30cb0523",
   "metadata": {},
   "outputs": [
    {
     "name": "stdout",
     "output_type": "stream",
     "text": [
      "John\n"
     ]
    }
   ],
   "source": [
    "#10.\n",
    "student = {\"name\": \"John\", \"age\": 20}\n",
    "print(student[\"name\"])\n"
   ]
  },
  {
   "cell_type": "code",
   "execution_count": null,
   "id": "d0f67c7c-8e8a-483c-a9eb-266b27f95671",
   "metadata": {},
   "outputs": [],
   "source": []
  }
 ],
 "metadata": {
  "kernelspec": {
   "display_name": "Python 3 (ipykernel)",
   "language": "python",
   "name": "python3"
  },
  "language_info": {
   "codemirror_mode": {
    "name": "ipython",
    "version": 3
   },
   "file_extension": ".py",
   "mimetype": "text/x-python",
   "name": "python",
   "nbconvert_exporter": "python",
   "pygments_lexer": "ipython3",
   "version": "3.12.7"
  }
 },
 "nbformat": 4,
 "nbformat_minor": 5
}
