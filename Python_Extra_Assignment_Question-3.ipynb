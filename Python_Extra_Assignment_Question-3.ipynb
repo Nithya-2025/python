{
 "cells": [
  {
   "cell_type": "code",
   "execution_count": 1,
   "id": "2a808ad7-504a-46fa-8f61-fa8b61a01993",
   "metadata": {},
   "outputs": [
    {
     "name": "stdin",
     "output_type": "stream",
     "text": [
      "Value 10\n"
     ]
    },
    {
     "name": "stdout",
     "output_type": "stream",
     "text": [
      "Correct\n"
     ]
    }
   ],
   "source": [
    "i = int(input(\"Value\"))\n",
    "if(i==10):\n",
    "    print('Correct')\n",
    "    "
   ]
  },
  {
   "cell_type": "code",
   "execution_count": 3,
   "id": "0839d82b-2e12-4618-ae8d-e367cb422b9e",
   "metadata": {},
   "outputs": [
    {
     "name": "stdin",
     "output_type": "stream",
     "text": [
      "Enter the password: HOPE@123\n"
     ]
    },
    {
     "name": "stdout",
     "output_type": "stream",
     "text": [
      "Your password is correct \n"
     ]
    }
   ],
   "source": [
    "pwd = input(\"Enter the password:\")\n",
    "if(pwd == \"HOPE@123\"):\n",
    "    print(\"Your password is correct \")"
   ]
  },
  {
   "cell_type": "code",
   "execution_count": 5,
   "id": "d672ee98-7dd4-473a-b3ba-eab194bf0e25",
   "metadata": {},
   "outputs": [
    {
     "name": "stdin",
     "output_type": "stream",
     "text": [
      "age: 20\n"
     ]
    },
    {
     "name": "stdout",
     "output_type": "stream",
     "text": [
      "Adult\n"
     ]
    }
   ],
   "source": [
    "age= int(input(\"age:\"))\n",
    "if(age >= 0 and age<=16):\n",
    "    print(\"Chilren\")\n",
    "elif(age >=17 and age<=30):\n",
    "    print(\"Adult\")\n",
    "elif(age>=31 and age<=45):\n",
    "    print(\"Citizen\")\n",
    "else:\n",
    "    print(\"Senior Citizen\")"
   ]
  },
  {
   "cell_type": "code",
   "execution_count": 6,
   "id": "3f767a76-81ea-4e73-9563-def841659662",
   "metadata": {},
   "outputs": [
    {
     "name": "stdin",
     "output_type": "stream",
     "text": [
      "Enter any no 5\n"
     ]
    },
    {
     "name": "stdout",
     "output_type": "stream",
     "text": [
      "Positive Number\n"
     ]
    }
   ],
   "source": [
    "no = int(input(\"Enter any no\"))\n",
    "if(no>=0):\n",
    "    print(\"Positive Number\")"
   ]
  },
  {
   "cell_type": "code",
   "execution_count": 8,
   "id": "721a4ff7-65a8-4606-afc8-0559a8358e32",
   "metadata": {},
   "outputs": [
    {
     "name": "stdin",
     "output_type": "stream",
     "text": [
      "Enter the no to check 9\n"
     ]
    },
    {
     "name": "stdout",
     "output_type": "stream",
     "text": [
      "No is not divisible by 5\n"
     ]
    }
   ],
   "source": [
    "no = int(input(\"Enter the no to check\"))\n",
    "if(no%5==0):\n",
    "    print(\"No is divisble by 5\")\n",
    "else:\n",
    "    print(\"No is not divisible by 5\")\n",
    "\n"
   ]
  },
  {
   "cell_type": "code",
   "execution_count": null,
   "id": "1d657d67-9411-4882-b7b2-12d93088fa01",
   "metadata": {},
   "outputs": [],
   "source": []
  }
 ],
 "metadata": {
  "kernelspec": {
   "display_name": "Python 3 (ipykernel)",
   "language": "python",
   "name": "python3"
  },
  "language_info": {
   "codemirror_mode": {
    "name": "ipython",
    "version": 3
   },
   "file_extension": ".py",
   "mimetype": "text/x-python",
   "name": "python",
   "nbconvert_exporter": "python",
   "pygments_lexer": "ipython3",
   "version": "3.12.7"
  }
 },
 "nbformat": 4,
 "nbformat_minor": 5
}
