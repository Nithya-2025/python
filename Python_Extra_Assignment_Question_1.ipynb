{
 "cells": [
  {
   "cell_type": "code",
   "execution_count": 2,
   "id": "57b9a96d-3837-489d-af6b-0303d054366f",
   "metadata": {},
   "outputs": [
    {
     "name": "stdout",
     "output_type": "stream",
     "text": [
      "HOPE AI\n"
     ]
    }
   ],
   "source": [
    "print(\"HOPE AI\")"
   ]
  },
  {
   "cell_type": "code",
   "execution_count": 3,
   "id": "9701fa20-2213-4cfc-95fa-c8b8d9071b1d",
   "metadata": {},
   "outputs": [
    {
     "name": "stdin",
     "output_type": "stream",
     "text": [
      "Enter your institute name? : HOPE AI\n"
     ]
    },
    {
     "name": "stdout",
     "output_type": "stream",
     "text": [
      "HOPE AI\n"
     ]
    }
   ],
   "source": [
    "inst_name = input(\"Enter your institute name? :\")\n",
    "print(inst_name)"
   ]
  },
  {
   "cell_type": "code",
   "execution_count": 4,
   "id": "5da4d451-7766-4994-a6b7-e4015883c22a",
   "metadata": {},
   "outputs": [
    {
     "name": "stdin",
     "output_type": "stream",
     "text": [
      "Enter your name:  Nithya\n",
      "Enter your age:  42\n",
      "Enter your school name:  Nirmala\n",
      "Enter your drgree:  MCA\n"
     ]
    },
    {
     "name": "stdout",
     "output_type": "stream",
     "text": [
      "Your name is  Nithya your age is  42 you stuied at  Nirmala your degree is MCA\n"
     ]
    }
   ],
   "source": [
    "name = input(\"Enter your name: \")\n",
    "age = input(\"Enter your age: \")\n",
    "school = input(\"Enter your school name: \")\n",
    "degree = input(\"Enter your drgree: \")\n",
    "print(\"Your name is \", name, \"your age is \", age, \"you stuied at \", school, \"your degree is\", degree)"
   ]
  },
  {
   "cell_type": "code",
   "execution_count": 7,
   "id": "60f25012-896f-4d02-ab9f-50d0a231261f",
   "metadata": {},
   "outputs": [
    {
     "name": "stdout",
     "output_type": "stream",
     "text": [
      "a =  43\n",
      "b =  34\n",
      "add =  77\n"
     ]
    }
   ],
   "source": [
    "a = 43\n",
    "b = 34\n",
    "print(\"a = \", a)\n",
    "print(\"b = \", b)\n",
    "print(\"add = \", a+b)"
   ]
  },
  {
   "cell_type": "code",
   "execution_count": 8,
   "id": "d7342d09-978c-4157-bd6b-f0bc7f9486e8",
   "metadata": {},
   "outputs": [
    {
     "name": "stdout",
     "output_type": "stream",
     "text": [
      "a =  43\n",
      "b =  34\n",
      "Sub =  9\n"
     ]
    }
   ],
   "source": [
    "a = 43\n",
    "b = 34\n",
    "print(\"a = \", a)\n",
    "print(\"b = \", b)\n",
    "print(\"Sub = \", a-b)"
   ]
  },
  {
   "cell_type": "code",
   "execution_count": 9,
   "id": "3f50bb25-0cf0-4815-a7dc-6cc8560855bb",
   "metadata": {},
   "outputs": [
    {
     "name": "stdout",
     "output_type": "stream",
     "text": [
      "a =  63\n",
      "b =  97\n",
      "Mul =  6111\n"
     ]
    }
   ],
   "source": [
    "a = 63\n",
    "b = 97\n",
    "print(\"a = \", a)\n",
    "print(\"b = \", b)\n",
    "print(\"Mul = \", a*b)"
   ]
  },
  {
   "cell_type": "code",
   "execution_count": 11,
   "id": "560ef1dd-f58c-4cc9-9856-ff4e8e3c6f4d",
   "metadata": {},
   "outputs": [
    {
     "name": "stdout",
     "output_type": "stream",
     "text": [
      "a =  76\n",
      "b =  31\n",
      "Mul =  2.4516129032258065\n"
     ]
    }
   ],
   "source": [
    "a = 76\n",
    "b = 31\n",
    "print(\"a = \", a)\n",
    "print(\"b = \", b)\n",
    "print(\"Float div = \", a/b)"
   ]
  },
  {
   "cell_type": "code",
   "execution_count": 17,
   "id": "21f07d3d-c96b-4210-a976-dbc07d6dc1bc",
   "metadata": {},
   "outputs": [
    {
     "name": "stdout",
     "output_type": "stream",
     "text": [
      "a =  76\n",
      "b =  31\n",
      "div =  2\n"
     ]
    }
   ],
   "source": [
    "a = 76\n",
    "b = 31\n",
    "print(\"a = \", a)\n",
    "print(\"b = \", b)\n",
    "print(\"Floor div = \", round(a/b))"
   ]
  },
  {
   "cell_type": "code",
   "execution_count": 18,
   "id": "8b3f4b53-e30b-4be7-935e-cdbbbf96cad6",
   "metadata": {},
   "outputs": [
    {
     "name": "stdout",
     "output_type": "stream",
     "text": [
      "a =  76\n",
      "b =  31\n",
      "Modulo =  14\n"
     ]
    }
   ],
   "source": [
    "a = 76\n",
    "b = 31\n",
    "print(\"a = \", a)\n",
    "print(\"b = \", b)\n",
    "print(\"Modulo = \", a%b)"
   ]
  },
  {
   "cell_type": "code",
   "execution_count": 19,
   "id": "6f593e49-08e5-4cd6-9422-1717f59520f8",
   "metadata": {},
   "outputs": [
    {
     "name": "stdout",
     "output_type": "stream",
     "text": [
      "Power  256\n"
     ]
    }
   ],
   "source": [
    "a = 4\n",
    "b = 4\n",
    "print(\"Power \", 4 ** 4)"
   ]
  },
  {
   "cell_type": "code",
   "execution_count": null,
   "id": "0d61c87f-e811-4aa6-ac90-a6d27fb7f62f",
   "metadata": {},
   "outputs": [],
   "source": []
  }
 ],
 "metadata": {
  "kernelspec": {
   "display_name": "Python 3 (ipykernel)",
   "language": "python",
   "name": "python3"
  },
  "language_info": {
   "codemirror_mode": {
    "name": "ipython",
    "version": 3
   },
   "file_extension": ".py",
   "mimetype": "text/x-python",
   "name": "python",
   "nbconvert_exporter": "python",
   "pygments_lexer": "ipython3",
   "version": "3.12.7"
  }
 },
 "nbformat": 4,
 "nbformat_minor": 5
}
