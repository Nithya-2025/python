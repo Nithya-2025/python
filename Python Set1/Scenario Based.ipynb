{
 "cells": [
  {
   "cell_type": "code",
   "execution_count": 4,
   "id": "88a99dca-4ae8-4296-b234-9bf5ed3d8f1e",
   "metadata": {},
   "outputs": [
    {
     "name": "stdin",
     "output_type": "stream",
     "text": [
      "Your age: 12\n"
     ]
    },
    {
     "name": "stdout",
     "output_type": "stream",
     "text": [
      "Not eligible to vote\n"
     ]
    }
   ],
   "source": [
    "#A system checks if a user is eligible to vote based on their age.\n",
    " #Write logic to ask the user for their age and determine if they are eligible to vote based on whether they are 18 or older.\n",
    "age = int(input(\"Your age:\"))\n",
    "if age>=18:\n",
    "    print(\"Eligible to vote\")\n",
    "else:\n",
    "    print(\"Not eligible to vote\")"
   ]
  },
  {
   "cell_type": "code",
   "execution_count": 5,
   "id": "94ec1807-042c-4e52-a43d-b22e57f449e3",
   "metadata": {},
   "outputs": [
    {
     "name": "stdout",
     "output_type": "stream",
     "text": [
      "54657\n"
     ]
    }
   ],
   "source": [
    "#A program processes a list of numbers and needs to find the largest value.\n",
    " #Write logic to identify and return the largest number from a given list.\n",
    "values = [3456,132,54657,232,23]\n",
    "print(max(values))"
   ]
  },
  {
   "cell_type": "code",
   "execution_count": 7,
   "id": "12b43748-87b9-40ac-ba6e-97bf19edc9ff",
   "metadata": {},
   "outputs": [
    {
     "name": "stdin",
     "output_type": "stream",
     "text": [
      "Your salary 10000\n"
     ]
    },
    {
     "name": "stdout",
     "output_type": "stream",
     "text": [
      "Your bonus amount is : 0\n"
     ]
    }
   ],
   "source": [
    "#A company provides employees with a 10% bonus if their salary exceeds $50,000.\n",
    " #Write logic to determine the bonus amount based on the given salary.\n",
    "salary = float(input(\"Your salary\"))\n",
    "bonus = 0\n",
    "if salary > 50000:\n",
    "    bonus = 10/100 * salary\n",
    "print(\"Your bonus amount is :\", bonus)"
   ]
  },
  {
   "cell_type": "code",
   "execution_count": 11,
   "id": "b09b17d3-4437-4f7e-affa-e7bc4de3df3a",
   "metadata": {},
   "outputs": [
    {
     "name": "stdin",
     "output_type": "stream",
     "text": [
      "Enter a no 8\n"
     ]
    },
    {
     "name": "stdout",
     "output_type": "stream",
     "text": [
      "8 Is Even\n"
     ]
    }
   ],
   "source": [
    "#A program evaluates a number to determine if it is even or odd.\n",
    " #Write logic to check whether a given number is even or odd.\n",
    "no = int(input(\"Enter a no\"))\n",
    "if no%2==0 :\n",
    "    print(no, \"Is Even\")\n",
    "else:\n",
    "    print(no, \"Is Odd\")"
   ]
  },
  {
   "cell_type": "code",
   "execution_count": 17,
   "id": "c7f71338-310a-46c8-8870-286ca81601a1",
   "metadata": {},
   "outputs": [
    {
     "name": "stdin",
     "output_type": "stream",
     "text": [
      "Enter any wor cat\n"
     ]
    },
    {
     "name": "stdout",
     "output_type": "stream",
     "text": [
      "tac\n"
     ]
    }
   ],
   "source": [
    "# A text-processing tool reverses a given word or sentence for formatting purposes.\n",
    " #Write logic to take a word or sentence as input and produce its reversed version.\n",
    "word = input(\"Enter any wor\")\n",
    "rev_word = word[:: -1]\n",
    "print(rev_word)"
   ]
  },
  {
   "cell_type": "code",
   "execution_count": 19,
   "id": "710b6bc4-c68f-4e2d-be41-fb37430963fc",
   "metadata": {},
   "outputs": [
    {
     "name": "stdin",
     "output_type": "stream",
     "text": [
      "Enter mark 30\n"
     ]
    },
    {
     "name": "stdout",
     "output_type": "stream",
     "text": [
      "Faile\n"
     ]
    }
   ],
   "source": [
    "#A grading system determines whether a student has passed or failed based on their score.\n",
    " #Write logic to check if a student has passed a subject by scoring at least 40 marks.\n",
    "mark = float(input(\"Enter mark\"))\n",
    "if (mark>=40):\n",
    "    print(\"Passed\")\n",
    "else:\n",
    "    print(\"Faile\")"
   ]
  },
  {
   "cell_type": "code",
   "execution_count": 23,
   "id": "d621acec-8cb5-49d8-b9c0-0da06c82ebe9",
   "metadata": {},
   "outputs": [
    {
     "name": "stdin",
     "output_type": "stream",
     "text": [
      "Enter totall orer value 60\n"
     ]
    },
    {
     "name": "stdout",
     "output_type": "stream",
     "text": [
      "The final amount to be paid 60.0\n"
     ]
    }
   ],
   "source": [
    "#A retail store offers a 20% discount if a customer’s total order exceeds $100. \n",
    "#Write logic to calculate the final amount to be paid after applying the discount.\n",
    "total_order = float(input(\"Enter totall orer value\"))\n",
    "discount = 0\n",
    "if total_order>=100 :\n",
    "    discount = 20/100 * total_order\n",
    "print(\"The final amount to be paid\", total_order-discount)"
   ]
  },
  {
   "cell_type": "code",
   "execution_count": 25,
   "id": "0cf2bbfe-60dc-4e5e-8d11-0480439efe85",
   "metadata": {},
   "outputs": [
    {
     "name": "stdin",
     "output_type": "stream",
     "text": [
      "Amount to be withdraw 3000\n"
     ]
    },
    {
     "name": "stdout",
     "output_type": "stream",
     "text": [
      "You have less balance 2000 , so cant withraw\n"
     ]
    }
   ],
   "source": [
    "#A banking system processes withdrawal requests and ensures the user has enough balance.\n",
    " #Write logic to check if a user has enough balance before allowing a withdrawal and update the remaining balance accordingly.\n",
    "amt = float(input(\"Amount to be withdraw\"))\n",
    "balance = 2000\n",
    "if amt <= balance:\n",
    "    print(\"You have \", balance, \"to withraw\")\n",
    "else:\n",
    "    print(\"You have less balance (\", balance, \"),so cant withraw\")"
   ]
  },
  {
   "cell_type": "code",
   "execution_count": 27,
   "id": "9c1af2b5-7922-4934-96f3-b998a23f2f95",
   "metadata": {},
   "outputs": [
    {
     "name": "stdin",
     "output_type": "stream",
     "text": [
      "Enter a year 2024\n"
     ]
    },
    {
     "name": "stdout",
     "output_type": "stream",
     "text": [
      "2024 Is a leap year\n"
     ]
    }
   ],
   "source": [
    "# A calendar system verifies whether a given year is a leap year based on standard leap year rules.\n",
    " # Write logic to determine whether a given year is a leap year.\n",
    "year = int(input(\"Enter a year\"))\n",
    "if year%4==0:\n",
    "    print(year, \"Is a leap year\")\n",
    "else:\n",
    "    print(year, \"Is not a leap year\")"
   ]
  },
  {
   "cell_type": "code",
   "execution_count": 28,
   "id": "8d72f130-15ea-42cb-8233-aa611acd2a42",
   "metadata": {},
   "outputs": [
    {
     "name": "stdout",
     "output_type": "stream",
     "text": [
      "678\n",
      "44\n",
      "2346\n"
     ]
    }
   ],
   "source": [
    "#Write logic to extract and return only the even numbers from a list.\n",
    "my_list = [2323,345,23,5675,678,44,33,2346]\n",
    "for i in my_list:\n",
    "    if i%2==0:\n",
    "        print(i)"
   ]
  },
  {
   "cell_type": "code",
   "execution_count": null,
   "id": "8789b0d9-a55b-4525-9cb4-7a6545829fab",
   "metadata": {},
   "outputs": [],
   "source": []
  }
 ],
 "metadata": {
  "kernelspec": {
   "display_name": "Python 3 (ipykernel)",
   "language": "python",
   "name": "python3"
  },
  "language_info": {
   "codemirror_mode": {
    "name": "ipython",
    "version": 3
   },
   "file_extension": ".py",
   "mimetype": "text/x-python",
   "name": "python",
   "nbconvert_exporter": "python",
   "pygments_lexer": "ipython3",
   "version": "3.12.7"
  }
 },
 "nbformat": 4,
 "nbformat_minor": 5
}
