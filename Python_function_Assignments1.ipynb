{
 "cells": [
  {
   "cell_type": "code",
   "execution_count": 13,
   "id": "9334ed7e-2737-447b-acd2-f0ef3d4dffdb",
   "metadata": {},
   "outputs": [],
   "source": [
    "class SubfieldsInAI:\n",
    "    def Subfields():\n",
    "        sub_fields = [\"Machine Learning\",  \"Neural Networks\", \"Vision\", \"Robotics\", \"Speech Processing\", \"Natural Language Processing\"]\n",
    "        print(\"Sub-fields in AI are: \")\n",
    "        for sf in sub_fields:\n",
    "            print(sf)"
   ]
  },
  {
   "cell_type": "code",
   "execution_count": 14,
   "id": "956cecb0-008e-49d5-a385-66154b3b70dd",
   "metadata": {},
   "outputs": [
    {
     "name": "stdout",
     "output_type": "stream",
     "text": [
      "Sub-fields in AI are: \n",
      "Machine Learning\n",
      "Neural Networks\n",
      "Vision\n",
      "Robotics\n",
      "Speech Processing\n",
      "Natural Language Processing\n"
     ]
    }
   ],
   "source": [
    "SubfieldsInAI.Subfields()"
   ]
  },
  {
   "cell_type": "code",
   "execution_count": 26,
   "id": "b284fe8e-a769-4747-89d8-6359adcd78ac",
   "metadata": {},
   "outputs": [],
   "source": [
    "class OddEven:\n",
    "    def OddEven(num):\n",
    "        if(num%2==0):\n",
    "            res = \"is an Even number\"\n",
    "        else:\n",
    "            res = \"is Odd number\"\n",
    "        return res\n"
   ]
  },
  {
   "cell_type": "code",
   "execution_count": 27,
   "id": "9efb7ee6-ca2d-470a-821a-0105d4053368",
   "metadata": {},
   "outputs": [
    {
     "name": "stdin",
     "output_type": "stream",
     "text": [
      "Enter a number 857475\n"
     ]
    },
    {
     "name": "stdout",
     "output_type": "stream",
     "text": [
      "857475 is Odd number\n"
     ]
    }
   ],
   "source": [
    "num1 = int(input(\"Enter a number\"))\n",
    "result = OddEven.OddEven(num1)\n",
    "print(num1 , result)"
   ]
  },
  {
   "cell_type": "code",
   "execution_count": 38,
   "id": "77bcf8d3-5eac-4811-9c74-ddd68162d1ed",
   "metadata": {},
   "outputs": [],
   "source": [
    "class ElegiblityForMarriage:\n",
    "    def Elegible(sex, age):\n",
    "        if((sex == \"male\" or sex ==\"m\") and age>=21):\n",
    "            result = \"Eligible\"\n",
    "        elif((sex == \"female\" or sex ==\"f\") and age>=18):\n",
    "            result = \"Eligible\"\n",
    "        else:\n",
    "            result = \"Not Eligible\"\n",
    "        return result"
   ]
  },
  {
   "cell_type": "code",
   "execution_count": 40,
   "id": "40b4e249-16cb-4d7c-85e8-de396fc86784",
   "metadata": {},
   "outputs": [
    {
     "name": "stdin",
     "output_type": "stream",
     "text": [
      "Your gender f\n",
      "Your age 13\n"
     ]
    },
    {
     "name": "stdout",
     "output_type": "stream",
     "text": [
      "Not Eligible\n"
     ]
    }
   ],
   "source": [
    "sex = input(\"Your gender\")\n",
    "age = int(input(\"Your age\"))\n",
    "result = ElegiblityForMarriage.Elegible(sex, age)\n",
    "print(result)"
   ]
  },
  {
   "cell_type": "code",
   "execution_count": 41,
   "id": "730ccce6-1e02-43b0-8d89-eecdb0051d7c",
   "metadata": {},
   "outputs": [],
   "source": [
    "class FindPercent:\n",
    "    def percentage(s1,s2,s3,s4,s5):\n",
    "        return (s1+s2+s3+s4+s5)/5"
   ]
  },
  {
   "cell_type": "code",
   "execution_count": 44,
   "id": "8087fd73-fd23-4688-9ad3-18d53840fbf7",
   "metadata": {},
   "outputs": [
    {
     "name": "stdin",
     "output_type": "stream",
     "text": [
      "Subject1:  90\n",
      "Subject2:  88\n",
      "Subject3:  70\n",
      "Subject4:  89\n",
      "Subject5:  94\n"
     ]
    },
    {
     "data": {
      "text/plain": [
       "86.2"
      ]
     },
     "execution_count": 44,
     "metadata": {},
     "output_type": "execute_result"
    }
   ],
   "source": [
    "sub1 = int(input(\"Subject1: \"))\n",
    "sub2 = int(input(\"Subject2: \"))\n",
    "sub3 = int(input(\"Subject3: \"))\n",
    "sub4 = int(input(\"Subject4: \"))\n",
    "sub5 = int(input(\"Subject5: \"))\n",
    "FindPercent.percentage(sub1, sub2, sub3, sub4, sub5)"
   ]
  },
  {
   "cell_type": "code",
   "execution_count": 46,
   "id": "d3c83e87-50b7-4b80-8463-b90e2f6ae1c5",
   "metadata": {},
   "outputs": [],
   "source": [
    "class triangle:\n",
    "    def triangle_area(h, b):\n",
    "        return (h*b)/2\n",
    "    def triangle_perimeter(h1, h2, b):\n",
    "        return h1+h2+b"
   ]
  },
  {
   "cell_type": "code",
   "execution_count": 47,
   "id": "17324261-2156-49c2-b055-1be285e16290",
   "metadata": {},
   "outputs": [
    {
     "name": "stdin",
     "output_type": "stream",
     "text": [
      "Height:  32\n",
      "Breath:  34\n"
     ]
    },
    {
     "name": "stdout",
     "output_type": "stream",
     "text": [
      "Area of a triangle is  544.0\n"
     ]
    }
   ],
   "source": [
    "#Find area of triangle\n",
    "height = float(input(\"Height: \"))\n",
    "breath = float(input(\"Breath: \"))\n",
    "area = triangle.triangle_area(height, breath)\n",
    "print(\"Area of a triangle is \", area)"
   ]
  },
  {
   "cell_type": "code",
   "execution_count": 48,
   "id": "3afc6932-92cd-476f-84f4-684a7e42541f",
   "metadata": {},
   "outputs": [
    {
     "name": "stdin",
     "output_type": "stream",
     "text": [
      "Height1  2\n",
      "Height2  4\n",
      "Breath  4\n"
     ]
    },
    {
     "name": "stdout",
     "output_type": "stream",
     "text": [
      "Area of a perimeter is : 10.0\n"
     ]
    }
   ],
   "source": [
    "#Find perimeter of a triangle\n",
    "height1 = float(input(\"Height1 \"))\n",
    "height2 = float(input(\"Height2 \"))\n",
    "breath = float(input(\"Breath \"))\n",
    "perimeter = triangle.triangle_perimeter(height1, height2, breath)\n",
    "print(\"Area of a perimeter is :\", perimeter)"
   ]
  },
  {
   "cell_type": "code",
   "execution_count": null,
   "id": "839928bd-5118-4942-9951-d9118ecafbb4",
   "metadata": {},
   "outputs": [],
   "source": []
  }
 ],
 "metadata": {
  "kernelspec": {
   "display_name": "Python 3 (ipykernel)",
   "language": "python",
   "name": "python3"
  },
  "language_info": {
   "codemirror_mode": {
    "name": "ipython",
    "version": 3
   },
   "file_extension": ".py",
   "mimetype": "text/x-python",
   "name": "python",
   "nbconvert_exporter": "python",
   "pygments_lexer": "ipython3",
   "version": "3.12.7"
  }
 },
 "nbformat": 4,
 "nbformat_minor": 5
}
