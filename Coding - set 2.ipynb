{
 "cells": [
  {
   "cell_type": "code",
   "execution_count": null,
   "id": "56947615-1fe6-4b45-9d77-fe70d8df2d5c",
   "metadata": {},
   "outputs": [],
   "source": [
    "#1.Write a Python program to find the reverse of a string. Expected Output (for input \"hello\"):\n",
    "#olleh\n",
    "inp = \"hello\"\n",
    "print(inp[:: -1])"
   ]
  },
  {
   "cell_type": "code",
   "execution_count": null,
   "id": "2a03554e-4dc2-4532-87b5-c0345c110add",
   "metadata": {},
   "outputs": [],
   "source": [
    "#2.Write a Python program to generate the Fibonacci sequence up to 10 terms.\n",
    "#Expected Output:\n",
    "#0 1 1 2 3 5 8 13 21 34\n",
    "f = 0\n",
    "s = 1\n",
    "print(f, end=\" \")\n",
    "print(s, end=\" \")\n",
    "for i in range(1,10):\n",
    "    t = f+s\n",
    "    print(f+s, end=\" \")\n",
    "    f=s\n",
    "    s=t"
   ]
  },
  {
   "cell_type": "code",
   "execution_count": 2,
   "id": "347d8007-b52e-4447-b6c6-133a24521410",
   "metadata": {},
   "outputs": [
    {
     "name": "stdin",
     "output_type": "stream",
     "text": [
      "Enter value:  ghjfgasg\n"
     ]
    },
    {
     "name": "stdout",
     "output_type": "stream",
     "text": [
      "ghjfgasg is not a palindrome\n"
     ]
    }
   ],
   "source": [
    "wor = input(\"Enter value: \")\n",
    "rev_str = wor[::-1]\n",
    "if wor == rev_str:\n",
    "    print(wor, \"is a palindrome\")\n",
    "else:\n",
    "    print(wor, \"is not a palindrome\")"
   ]
  },
  {
   "cell_type": "code",
   "execution_count": 6,
   "id": "183fca45-5c50-41e5-b3f2-b5e86627c14b",
   "metadata": {},
   "outputs": [
    {
     "name": "stdin",
     "output_type": "stream",
     "text": [
      "Enter value nithya\n"
     ]
    },
    {
     "name": "stdout",
     "output_type": "stream",
     "text": [
      "2\n"
     ]
    }
   ],
   "source": [
    "#4.Write a Python program to count the number of vowels in a given string. \n",
    "# Expected Output (for input \"education\"):\n",
    "#Number of vowels: 5\n",
    "vow = ['a','e','i','o','u']\n",
    "cnt = 0\n",
    "inp = input(\"Enter value\")\n",
    "for i in range(0, len(inp)):\n",
    "    if inp[i] in vow:\n",
    "        cnt = cnt+1\n",
    "print(cnt)"
   ]
  },
  {
   "cell_type": "code",
   "execution_count": null,
   "id": "ade73dc0-b636-4569-8f29-82ddd17117c8",
   "metadata": {},
   "outputs": [],
   "source": [
    "#5.Write a Python program to remove duplicates from a list.\n",
    "#Expected Output (for input [1, 2, 2, 3, 4, 4, 5]):\n",
    "\n",
    " #[1, 2, 3, 4, 5]\n",
    "my_list = [1, 2, 2, 3, 4, 4, 5]\n",
    "new_list = []\n",
    "for i in range(0,len(my_list)):\n",
    "    if my_list[i] not in new_list:\n",
    "        new_list.append(my_list[i])\n",
    "print(new_list)"
   ]
  }
 ],
 "metadata": {
  "kernelspec": {
   "display_name": "Python 3 (ipykernel)",
   "language": "python",
   "name": "python3"
  },
  "language_info": {
   "codemirror_mode": {
    "name": "ipython",
    "version": 3
   },
   "file_extension": ".py",
   "mimetype": "text/x-python",
   "name": "python",
   "nbconvert_exporter": "python",
   "pygments_lexer": "ipython3",
   "version": "3.12.7"
  }
 },
 "nbformat": 4,
 "nbformat_minor": 5
}
