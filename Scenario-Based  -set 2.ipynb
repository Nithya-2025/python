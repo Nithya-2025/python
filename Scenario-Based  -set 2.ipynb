{
 "cells": [
  {
   "cell_type": "code",
   "execution_count": 1,
   "id": "cb8870f1-d786-4bb8-8d4f-3fd1f9415d7a",
   "metadata": {},
   "outputs": [
    {
     "name": "stdin",
     "output_type": "stream",
     "text": [
      "Enter the amount -4\n"
     ]
    },
    {
     "name": "stdout",
     "output_type": "stream",
     "text": [
      "Negative\n"
     ]
    }
   ],
   "source": [
    "# You are developing a banking application that categorizes transactions based on the amount entered.\n",
    "# Write logic to determine whether the amount is positive, negative, or zero.\n",
    "amt = float(input(\"Enter the amount\"))\n",
    "if amt==0:\n",
    "    print(\"Zero\")\n",
    "elif amt>0:\n",
    "    print(\"Positive\")\n",
    "else:\n",
    "    print(\"Negative\")"
   ]
  },
  {
   "cell_type": "code",
   "execution_count": 8,
   "id": "b04bc91a-3928-4435-b0c0-dade00f04623",
   "metadata": {},
   "outputs": [
    {
     "name": "stdin",
     "output_type": "stream",
     "text": [
      "Enter the passcode 5678\n"
     ]
    },
    {
     "name": "stdout",
     "output_type": "stream",
     "text": [
      "4\n",
      "5678\n",
      "5\n",
      "6\n",
      "7\n",
      "8\n",
      "26\n"
     ]
    }
   ],
   "source": [
    "#A digital locker requires users to enter a numerical passcode. As part of a security feature, the system checks the sum of the digits of the passcode.\n",
    " #Write logic to compute the sum of the digits of a given number.\n",
    "no = input(\"Enter the passcode\")\n",
    "sum = 0\n",
    "print(len(no))\n",
    "print(no)\n",
    "for i in range(len(no)):\n",
    "    print(int(no[i]))\n",
    "    sum = sum + int(no[i])\n",
    "print(sum)"
   ]
  },
  {
   "cell_type": "code",
   "execution_count": 11,
   "id": "37006b4a-ea81-4252-b1f1-e454b2aeb04c",
   "metadata": {},
   "outputs": [
    {
     "name": "stdin",
     "output_type": "stream",
     "text": [
      "Enter transaction no 12345\n"
     ]
    },
    {
     "name": "stdout",
     "output_type": "stream",
     "text": [
      "54321\n"
     ]
    }
   ],
   "source": [
    "#A mobile payment app uses a simple checksum validation where reversing a transaction ID helps detect fraud.\n",
    "# Write logic to take a number and return its reverse.\n",
    "no = input(\"Enter transaction no\")\n",
    "rev_no = no[:: -1]\n",
    "print(int(rev_no))"
   ]
  },
  {
   "cell_type": "code",
   "execution_count": 13,
   "id": "6ff3efaa-f8b8-4cce-8364-0adbb59f1c93",
   "metadata": {},
   "outputs": [
    {
     "name": "stdin",
     "output_type": "stream",
     "text": [
      "Enter no 9\n"
     ]
    },
    {
     "name": "stdout",
     "output_type": "stream",
     "text": [
      "9 Is not a Prime\n"
     ]
    }
   ],
   "source": [
    "#In a secure login system, certain features are enabled only for users with prime-numbered user IDs.\n",
    " #Write logic to check if a given number is prime.\n",
    "no = int(input(\"Enter no\"))\n",
    "prime = True\n",
    "for i in range(2,no-1):\n",
    "    if(no%i ==0):\n",
    "        prime = False\n",
    "if prime == True:\n",
    "    print(no, \"Is a Prime\")\n",
    "else:\n",
    "    print(no, \"Is not a Prime\")"
   ]
  },
  {
   "cell_type": "code",
   "execution_count": 14,
   "id": "9dba682f-0446-41e8-b969-d244ab65d47d",
   "metadata": {},
   "outputs": [
    {
     "name": "stdout",
     "output_type": "stream",
     "text": [
      "120\n"
     ]
    }
   ],
   "source": [
    "# A scientist is working on permutations and needs to calculate the factorial of numbers frequently.\n",
    " # Write logic to find the factorial of a given number using recursion.\n",
    "def factorial(n):\n",
    "    if n==0 or n==1:\n",
    "        return 1\n",
    "    else:\n",
    "        return n*factorial(n-1)\n",
    "\n",
    "print(factorial(5))\n",
    "    "
   ]
  },
  {
   "cell_type": "code",
   "execution_count": 20,
   "id": "4b83fd96-ea76-47db-8a70-3e19f4e97b71",
   "metadata": {},
   "outputs": [
    {
     "name": "stdin",
     "output_type": "stream",
     "text": [
      "Enter the no 153\n"
     ]
    },
    {
     "name": "stdout",
     "output_type": "stream",
     "text": [
      "153 Is an Armstrong no\n"
     ]
    }
   ],
   "source": [
    "# 6.\tScenario: A unique lottery system assigns ticket numbers where only Armstrong numbers win the jackpot.\n",
    " # Write logic to check whether a given number is an Armstrong number.\n",
    "no = input(\"Enter the no\")\n",
    "a_no = 0\n",
    "for i in range(len(no)):\n",
    "    a_no = a_no+(int(no[i])**3)\n",
    "if int(no) == a_no:\n",
    "    print(no, \"Is an Armstrong no\") \n",
    "else:\n",
    "    print(no, \"Is not an Armstrong no\")"
   ]
  },
  {
   "cell_type": "code",
   "execution_count": 49,
   "id": "5b482209-3773-4aab-ad05-1b4dfe7cdb4f",
   "metadata": {},
   "outputs": [
    {
     "name": "stdin",
     "output_type": "stream",
     "text": [
      "Enter the passwor nithya\n"
     ]
    },
    {
     "name": "stdout",
     "output_type": "stream",
     "text": [
      "Original pwd nithya\n",
      "Modifie pwd ['a', 'i', 't', 'h', 'y', 'n']\n"
     ]
    }
   ],
   "source": [
    "#A password manager needs to strengthen weak passwords by swapping the first and last characters of user-generated passwords.\n",
    " #Write logic to perform this operation on a given string.\n",
    "pwd = input(\"Enter the passwor\")\n",
    "if len(pwd) < 2 :\n",
    "    print(pwd)\n",
    "else:\n",
    "    new_pwd = list(pwd)\n",
    "    new_pwd[0] = str(pwd[len(pwd)-1])\n",
    "    new_pwd[len(pwd)-1] = str(pwd[0])\n",
    "    print(\"Original pwd\", pwd)\n",
    "    print(\"Modifie pwd\", str_pwd)"
   ]
  },
  {
   "cell_type": "code",
   "execution_count": 64,
   "id": "400188b7-b3a1-404f-87ce-20bfa89f32ac",
   "metadata": {},
   "outputs": [
    {
     "name": "stdin",
     "output_type": "stream",
     "text": [
      "Enter the no 8\n"
     ]
    },
    {
     "name": "stdout",
     "output_type": "stream",
     "text": [
      "8\n",
      "0001\n",
      "1000\n"
     ]
    }
   ],
   "source": [
    "#A low-level networking application requires decimal numbers to be converted into binary format before transmission.\n",
    "# Write logic to convert a given decimal number into its binary equivalent.\n",
    "no = int(input(\"Enter the no\"))\n",
    "print(no)\n",
    "dec_no = \"\"\n",
    "while no>1:\n",
    "    dec_no = dec_no + str(int(no%2))\n",
    "    no = int(no/2)\n",
    "dec_no = dec_no + str(no)\n",
    "print(dec_no)\n",
    "bin_no = dec_no[:: -1]\n",
    "print(bin_no)"
   ]
  },
  {
   "cell_type": "code",
   "execution_count": 70,
   "id": "80f8de21-c259-4f97-9015-16cd51a71d96",
   "metadata": {},
   "outputs": [
    {
     "name": "stdin",
     "output_type": "stream",
     "text": [
      "Enter sentence me\n"
     ]
    },
    {
     "name": "stdout",
     "output_type": "stream",
     "text": [
      "me\n"
     ]
    }
   ],
   "source": [
    "#A text-processing tool helps summarize articles by identifying the most significant words.\n",
    "# Write logic to find the longest word in a sentence\n",
    "sent = input(\"Enter sentence\")\n",
    "list_sent = sent.split()\n",
    "big_word = \"\"\n",
    "if len(list_sent) == 1:\n",
    "    big_word = list_sent[0]\n",
    "else:\n",
    "    for word in list_sent:\n",
    "        if(len(big_word) <= len(word)):\n",
    "            if(big_word != word):\n",
    "                big_word = word\n",
    "print(big_word)"
   ]
  },
  {
   "cell_type": "code",
   "execution_count": 81,
   "id": "bb6f5c74-a0dc-4a85-8599-d62df4bf886f",
   "metadata": {},
   "outputs": [
    {
     "name": "stdin",
     "output_type": "stream",
     "text": [
      "Enter 1st string me love Apple\n",
      "Enter 2nd string LOVE apple me\n"
     ]
    },
    {
     "name": "stdout",
     "output_type": "stream",
     "text": [
      "me love Apple\n",
      "LOVE apple me\n",
      "['apple', 'love', 'me']\n",
      "['apple', 'love', 'me']\n",
      "strings are anagrams\n"
     ]
    }
   ],
   "source": [
    "#A plagiarism detection tool compares words from different documents and checks if they are anagrams (same characters but different order).\n",
    " #Write logic to check whether two given strings are anagrams\n",
    "f_str = input(\"Enter 1st string\")\n",
    "s_str = input(\"Enter 2nd string\")\n",
    "\n",
    "f_str_trim = f_str.strip()\n",
    "s_str_trim = s_str.strip()\n",
    "\n",
    "print(f_str_trim)\n",
    "print(s_str_trim)\n",
    "\n",
    "f_str_split = f_str_trim.lower().split()\n",
    "s_str_split = s_str_trim.lower().split()\n",
    "\n",
    "sorted_f_str = sorted(f_str_split)\n",
    "sorted_s_str = sorted(s_str_split)\n",
    "print(sorted_f_str)\n",
    "print(sorted_s_str)\n",
    "\n",
    "if(\" \".join(sorted_f_str) == \" \".join(sorted_s_str)):\n",
    "    print(\"strings are anagrams\")\n",
    "else:\n",
    "    print(\"strings are not anagrams\")\n",
    "#print(\" \".join(sorted_f_str))\n",
    "#print(\" \".join(sorted_s_str))\n"
   ]
  },
  {
   "cell_type": "code",
   "execution_count": null,
   "id": "1ff78a67-a4ab-436a-8f3d-6a6f63719e13",
   "metadata": {},
   "outputs": [],
   "source": []
  }
 ],
 "metadata": {
  "kernelspec": {
   "display_name": "Python 3 (ipykernel)",
   "language": "python",
   "name": "python3"
  },
  "language_info": {
   "codemirror_mode": {
    "name": "ipython",
    "version": 3
   },
   "file_extension": ".py",
   "mimetype": "text/x-python",
   "name": "python",
   "nbconvert_exporter": "python",
   "pygments_lexer": "ipython3",
   "version": "3.12.7"
  }
 },
 "nbformat": 4,
 "nbformat_minor": 5
}
