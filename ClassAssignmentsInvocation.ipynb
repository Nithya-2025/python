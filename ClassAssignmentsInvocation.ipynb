{
 "cells": [
  {
   "cell_type": "code",
   "execution_count": 2,
   "id": "44567ff4-9fa9-4fb6-8d6b-5a3011c35280",
   "metadata": {},
   "outputs": [
    {
     "name": "stdout",
     "output_type": "stream",
     "text": [
      "Sub-fields in AI are: \n",
      "Machine Learning\n",
      "Neural Networks\n",
      "Vision\n",
      "Robotics\n",
      "Speech Processing\n",
      "Natural Language Processing\n",
      "\n",
      "\n"
     ]
    },
    {
     "name": "stdin",
     "output_type": "stream",
     "text": [
      "Enter a number: 5\n"
     ]
    },
    {
     "name": "stdout",
     "output_type": "stream",
     "text": [
      "5 is Odd number\n",
      "\n",
      "\n"
     ]
    },
    {
     "name": "stdin",
     "output_type": "stream",
     "text": [
      "Your gener: f\n",
      "Your age: 42\n"
     ]
    },
    {
     "name": "stdout",
     "output_type": "stream",
     "text": [
      "Eligible\n",
      "\n",
      "\n"
     ]
    },
    {
     "name": "stdin",
     "output_type": "stream",
     "text": [
      "Subject1:  90\n",
      "Subject2:  78\n",
      "Subject3:  100\n",
      "Subject4:  90\n",
      "Subject5:  99\n"
     ]
    },
    {
     "name": "stdout",
     "output_type": "stream",
     "text": [
      "91.4\n",
      "\n",
      "\n"
     ]
    },
    {
     "name": "stdin",
     "output_type": "stream",
     "text": [
      "Height:  3\n",
      "Breath:  4\n"
     ]
    },
    {
     "name": "stdout",
     "output_type": "stream",
     "text": [
      "Area of a triangle is  6.0\n",
      "\n",
      "\n"
     ]
    },
    {
     "name": "stdin",
     "output_type": "stream",
     "text": [
      "Height1  5\n",
      "Height2  4\n",
      "Breath  3\n"
     ]
    },
    {
     "name": "stdout",
     "output_type": "stream",
     "text": [
      "Area of a perimeter is : 12.0\n",
      "\n",
      "\n"
     ]
    }
   ],
   "source": [
    "# OOPS class concept learning\n",
    "from ClassAssignments import ClassAssignments\n",
    "\n",
    "#List out the items in the list\n",
    "ClassAssignments.Subfields()\n",
    "print(\"\\n\")\n",
    "\n",
    "#function that checks whether the given number is Odd or Even\n",
    "ClassAssignments.OddEven()\n",
    "print(\"\\n\")\n",
    "\n",
    "#Elegibility of marriage for male and female \n",
    "ClassAssignments.Elegible()\n",
    "print(\"\\n\")\n",
    "\n",
    "# calculate the percentage of your 10th mark\n",
    "ClassAssignments.percentage()\n",
    "print(\"\\n\")\n",
    "\n",
    "#print area and perimeter of triangle using class and functions\n",
    "ClassAssignments.triangle_area()\n",
    "print(\"\\n\")\n",
    "ClassAssignments.triangle_perimeter()\n",
    "print(\"\\n\")"
   ]
  },
  {
   "cell_type": "code",
   "execution_count": null,
   "id": "67b0048f-cffd-448c-9ff1-67decf42157b",
   "metadata": {},
   "outputs": [],
   "source": []
  }
 ],
 "metadata": {
  "kernelspec": {
   "display_name": "Python 3 (ipykernel)",
   "language": "python",
   "name": "python3"
  },
  "language_info": {
   "codemirror_mode": {
    "name": "ipython",
    "version": 3
   },
   "file_extension": ".py",
   "mimetype": "text/x-python",
   "name": "python",
   "nbconvert_exporter": "python",
   "pygments_lexer": "ipython3",
   "version": "3.12.7"
  }
 },
 "nbformat": 4,
 "nbformat_minor": 5
}
